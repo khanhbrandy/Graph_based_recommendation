{
 "cells": [
  {
   "cell_type": "code",
   "execution_count": 1,
   "metadata": {},
   "outputs": [],
   "source": [
    "import pandas as pd\n",
    "import numpy as np"
   ]
  },
  {
   "cell_type": "code",
   "execution_count": 2,
   "metadata": {},
   "outputs": [],
   "source": [
    "data = pd.read_csv('export.csv', header = 0, \n",
    "                   dtype = {'u1_agentid':str,\n",
    "                            'u1_reference':str,\n",
    "                            'u1_in_degree':float,\n",
    "                            'u1_out_degree':float,\n",
    "                            'u1_page_rank':float,\n",
    "                            'u1_community_id':str,\n",
    "                            'u1_category':str,\n",
    "                            'u1_status':str,\n",
    "                            'u1_user_type':str,\n",
    "                            'tranid':str,\n",
    "                            'amount':float,\n",
    "                            'tran_type':str,\n",
    "                            'u2_agentid':str,\n",
    "                            'u2_reference':str,\n",
    "                            'u2_in_degree':float,\n",
    "                            'u2_out_degree':float,\n",
    "                            'u2_page_rank':float,\n",
    "                            'u2_community_id':str,\n",
    "                            'u2_category':str,\n",
    "                            'u2_status':str,\n",
    "                            'u2_user_type':str,\n",
    "                           })"
   ]
  },
  {
   "cell_type": "code",
   "execution_count": 3,
   "metadata": {},
   "outputs": [],
   "source": [
    "# Missing value treatment for u1\n",
    "data['u1_in_degree'] = data['u1_in_degree'].fillna(0)\n",
    "data['u1_out_degree'] = data['u1_out_degree'].fillna(0)\n",
    "data['u1_page_rank'] = data['u1_page_rank'].fillna(0)\n",
    "data['u1_community_id'] = data['u1_community_id'].fillna('unknown')\n",
    "data['u1_category'] = data['u1_category'].fillna('unknown')\n",
    "data['u1_status'] = data['u1_status'].fillna('unknown')\n",
    "data['u1_user_type'] = data['u1_user_type'].fillna('unknown')\n",
    "# Missing value treatment for u1\n",
    "data['u2_in_degree'] = data['u2_in_degree'].fillna(0)\n",
    "data['u2_out_degree'] = data['u2_out_degree'].fillna(0)\n",
    "data['u2_page_rank'] = data['u2_page_rank'].fillna(0)\n",
    "data['u2_community_id'] = data['u2_community_id'].fillna('unknown')\n",
    "data['u2_category'] = data['u2_category'].fillna('unknown')\n",
    "data['u2_status'] = data['u2_status'].fillna('unknown')\n",
    "data['u2_user_type'] = data['u2_user_type'].fillna('unknown')"
   ]
  },
  {
   "cell_type": "code",
   "execution_count": 4,
   "metadata": {},
   "outputs": [],
   "source": [
    "u1 = pd.DataFrame(data[['u1_agentid',\n",
    "                         'u1_in_degree',\n",
    "                         'u1_out_degree',\n",
    "                         'u1_page_rank',\n",
    "                         'u1_community_id',\n",
    "                         'u1_category',\n",
    "                         'u1_status',\n",
    "                         'u1_user_type'\n",
    "                        ]])\n",
    "u1.columns = u1.columns.str[3:]\n",
    "u2 = pd.DataFrame(data[['u2_agentid',\n",
    "                         'u2_in_degree',\n",
    "                         'u2_out_degree',\n",
    "                         'u2_page_rank',\n",
    "                         'u2_community_id',\n",
    "                         'u2_category',\n",
    "                         'u2_status',\n",
    "                         'u2_user_type'\n",
    "                        ]])\n",
    "u2.columns = u2.columns.str[3:]"
   ]
  },
  {
   "cell_type": "markdown",
   "metadata": {},
   "source": [
    "### Extract user set"
   ]
  },
  {
   "cell_type": "code",
   "execution_count": 5,
   "metadata": {
    "scrolled": false
   },
   "outputs": [],
   "source": [
    "agent = pd.concat([u1, u2]).drop_duplicates(subset=['agentid'], keep='first')"
   ]
  },
  {
   "cell_type": "code",
   "execution_count": 6,
   "metadata": {},
   "outputs": [
    {
     "data": {
      "text/html": [
       "<div>\n",
       "<style scoped>\n",
       "    .dataframe tbody tr th:only-of-type {\n",
       "        vertical-align: middle;\n",
       "    }\n",
       "\n",
       "    .dataframe tbody tr th {\n",
       "        vertical-align: top;\n",
       "    }\n",
       "\n",
       "    .dataframe thead th {\n",
       "        text-align: right;\n",
       "    }\n",
       "</style>\n",
       "<table border=\"1\" class=\"dataframe\">\n",
       "  <thead>\n",
       "    <tr style=\"text-align: right;\">\n",
       "      <th></th>\n",
       "      <th>agentid</th>\n",
       "      <th>in_degree</th>\n",
       "      <th>out_degree</th>\n",
       "      <th>page_rank</th>\n",
       "      <th>community_id</th>\n",
       "      <th>category</th>\n",
       "      <th>status</th>\n",
       "      <th>user_type</th>\n",
       "    </tr>\n",
       "  </thead>\n",
       "  <tbody>\n",
       "    <tr>\n",
       "      <th>0</th>\n",
       "      <td>46695821</td>\n",
       "      <td>0.0</td>\n",
       "      <td>0.0</td>\n",
       "      <td>0.0</td>\n",
       "      <td>unknown</td>\n",
       "      <td>agent</td>\n",
       "      <td>3</td>\n",
       "      <td>0</td>\n",
       "    </tr>\n",
       "    <tr>\n",
       "      <th>2</th>\n",
       "      <td>28379698</td>\n",
       "      <td>0.0</td>\n",
       "      <td>0.0</td>\n",
       "      <td>0.0</td>\n",
       "      <td>unknown</td>\n",
       "      <td>agent</td>\n",
       "      <td>3</td>\n",
       "      <td>0</td>\n",
       "    </tr>\n",
       "    <tr>\n",
       "      <th>3</th>\n",
       "      <td>38138719</td>\n",
       "      <td>0.0</td>\n",
       "      <td>0.0</td>\n",
       "      <td>0.0</td>\n",
       "      <td>unknown</td>\n",
       "      <td>agent</td>\n",
       "      <td>3</td>\n",
       "      <td>1</td>\n",
       "    </tr>\n",
       "    <tr>\n",
       "      <th>4</th>\n",
       "      <td>49597729</td>\n",
       "      <td>0.0</td>\n",
       "      <td>0.0</td>\n",
       "      <td>0.0</td>\n",
       "      <td>unknown</td>\n",
       "      <td>agent</td>\n",
       "      <td>3</td>\n",
       "      <td>0</td>\n",
       "    </tr>\n",
       "    <tr>\n",
       "      <th>5</th>\n",
       "      <td>36266096</td>\n",
       "      <td>0.0</td>\n",
       "      <td>0.0</td>\n",
       "      <td>0.0</td>\n",
       "      <td>unknown</td>\n",
       "      <td>agent</td>\n",
       "      <td>3</td>\n",
       "      <td>1</td>\n",
       "    </tr>\n",
       "  </tbody>\n",
       "</table>\n",
       "</div>"
      ],
      "text/plain": [
       "    agentid  in_degree  out_degree  page_rank community_id category status  \\\n",
       "0  46695821        0.0         0.0        0.0      unknown    agent      3   \n",
       "2  28379698        0.0         0.0        0.0      unknown    agent      3   \n",
       "3  38138719        0.0         0.0        0.0      unknown    agent      3   \n",
       "4  49597729        0.0         0.0        0.0      unknown    agent      3   \n",
       "5  36266096        0.0         0.0        0.0      unknown    agent      3   \n",
       "\n",
       "  user_type  \n",
       "0         0  \n",
       "2         0  \n",
       "3         1  \n",
       "4         0  \n",
       "5         1  "
      ]
     },
     "execution_count": 6,
     "metadata": {},
     "output_type": "execute_result"
    }
   ],
   "source": [
    "agent.head()"
   ]
  },
  {
   "cell_type": "markdown",
   "metadata": {},
   "source": [
    "### Extract transaction"
   ]
  },
  {
   "cell_type": "code",
   "execution_count": 7,
   "metadata": {},
   "outputs": [],
   "source": [
    "transaction = pd.DataFrame(data[['u1_agentid',\n",
    "                         'u1_reference',\n",
    "                         'tranid',\n",
    "                         'amount',\n",
    "                         'tran_type',\n",
    "                         'u2_agentid',\n",
    "                         'u2_reference'\n",
    "                        ]])\n"
   ]
  },
  {
   "cell_type": "code",
   "execution_count": 8,
   "metadata": {
    "scrolled": false
   },
   "outputs": [
    {
     "data": {
      "text/html": [
       "<div>\n",
       "<style scoped>\n",
       "    .dataframe tbody tr th:only-of-type {\n",
       "        vertical-align: middle;\n",
       "    }\n",
       "\n",
       "    .dataframe tbody tr th {\n",
       "        vertical-align: top;\n",
       "    }\n",
       "\n",
       "    .dataframe thead th {\n",
       "        text-align: right;\n",
       "    }\n",
       "</style>\n",
       "<table border=\"1\" class=\"dataframe\">\n",
       "  <thead>\n",
       "    <tr style=\"text-align: right;\">\n",
       "      <th></th>\n",
       "      <th>u1_agentid</th>\n",
       "      <th>u1_reference</th>\n",
       "      <th>tranid</th>\n",
       "      <th>amount</th>\n",
       "      <th>tran_type</th>\n",
       "      <th>u2_agentid</th>\n",
       "      <th>u2_reference</th>\n",
       "    </tr>\n",
       "  </thead>\n",
       "  <tbody>\n",
       "    <tr>\n",
       "      <th>0</th>\n",
       "      <td>46695821</td>\n",
       "      <td>vttimathe_imedia</td>\n",
       "      <td>6009421601</td>\n",
       "      <td>2800.0</td>\n",
       "      <td>cashback</td>\n",
       "      <td>38157836</td>\n",
       "      <td>0906039753</td>\n",
       "    </tr>\n",
       "    <tr>\n",
       "      <th>1</th>\n",
       "      <td>46695821</td>\n",
       "      <td>vttimathe_imedia</td>\n",
       "      <td>6009479223</td>\n",
       "      <td>28000.0</td>\n",
       "      <td>billpay</td>\n",
       "      <td>38157836</td>\n",
       "      <td>0906039753</td>\n",
       "    </tr>\n",
       "    <tr>\n",
       "      <th>2</th>\n",
       "      <td>28379698</td>\n",
       "      <td>cktopupmm_mbp</td>\n",
       "      <td>5969281259</td>\n",
       "      <td>1750.0</td>\n",
       "      <td>bonus</td>\n",
       "      <td>38157836</td>\n",
       "      <td>0906039753</td>\n",
       "    </tr>\n",
       "    <tr>\n",
       "      <th>3</th>\n",
       "      <td>38138719</td>\n",
       "      <td>vms2.airtime</td>\n",
       "      <td>5969158393</td>\n",
       "      <td>50000.0</td>\n",
       "      <td>buy</td>\n",
       "      <td>38157836</td>\n",
       "      <td>0906039753</td>\n",
       "    </tr>\n",
       "    <tr>\n",
       "      <th>4</th>\n",
       "      <td>49597729</td>\n",
       "      <td>m4becomrecess</td>\n",
       "      <td>6017694536</td>\n",
       "      <td>35316.0</td>\n",
       "      <td>m4bpay</td>\n",
       "      <td>4590187</td>\n",
       "      <td>0979726690</td>\n",
       "    </tr>\n",
       "  </tbody>\n",
       "</table>\n",
       "</div>"
      ],
      "text/plain": [
       "  u1_agentid      u1_reference      tranid   amount tran_type u2_agentid  \\\n",
       "0   46695821  vttimathe_imedia  6009421601   2800.0  cashback   38157836   \n",
       "1   46695821  vttimathe_imedia  6009479223  28000.0   billpay   38157836   \n",
       "2   28379698     cktopupmm_mbp  5969281259   1750.0     bonus   38157836   \n",
       "3   38138719      vms2.airtime  5969158393  50000.0       buy   38157836   \n",
       "4   49597729     m4becomrecess  6017694536  35316.0    m4bpay    4590187   \n",
       "\n",
       "  u2_reference  \n",
       "0   0906039753  \n",
       "1   0906039753  \n",
       "2   0906039753  \n",
       "3   0906039753  \n",
       "4   0979726690  "
      ]
     },
     "execution_count": 8,
     "metadata": {},
     "output_type": "execute_result"
    }
   ],
   "source": [
    "transaction.head()"
   ]
  },
  {
   "cell_type": "markdown",
   "metadata": {},
   "source": [
    "### Extract product set"
   ]
  },
  {
   "cell_type": "code",
   "execution_count": 12,
   "metadata": {},
   "outputs": [],
   "source": [
    "product = pd.DataFrame(transaction['tran_type'].unique()).rename(columns = {0: 'product'})"
   ]
  },
  {
   "cell_type": "code",
   "execution_count": 14,
   "metadata": {},
   "outputs": [
    {
     "data": {
      "text/html": [
       "<div>\n",
       "<style scoped>\n",
       "    .dataframe tbody tr th:only-of-type {\n",
       "        vertical-align: middle;\n",
       "    }\n",
       "\n",
       "    .dataframe tbody tr th {\n",
       "        vertical-align: top;\n",
       "    }\n",
       "\n",
       "    .dataframe thead th {\n",
       "        text-align: right;\n",
       "    }\n",
       "</style>\n",
       "<table border=\"1\" class=\"dataframe\">\n",
       "  <thead>\n",
       "    <tr style=\"text-align: right;\">\n",
       "      <th></th>\n",
       "      <th>product</th>\n",
       "    </tr>\n",
       "  </thead>\n",
       "  <tbody>\n",
       "    <tr>\n",
       "      <th>0</th>\n",
       "      <td>cashback</td>\n",
       "    </tr>\n",
       "    <tr>\n",
       "      <th>1</th>\n",
       "      <td>billpay</td>\n",
       "    </tr>\n",
       "    <tr>\n",
       "      <th>2</th>\n",
       "      <td>bonus</td>\n",
       "    </tr>\n",
       "    <tr>\n",
       "      <th>3</th>\n",
       "      <td>buy</td>\n",
       "    </tr>\n",
       "    <tr>\n",
       "      <th>4</th>\n",
       "      <td>m4bpay</td>\n",
       "    </tr>\n",
       "  </tbody>\n",
       "</table>\n",
       "</div>"
      ],
      "text/plain": [
       "    product\n",
       "0  cashback\n",
       "1   billpay\n",
       "2     bonus\n",
       "3       buy\n",
       "4    m4bpay"
      ]
     },
     "execution_count": 14,
     "metadata": {},
     "output_type": "execute_result"
    }
   ],
   "source": [
    "product.head()"
   ]
  },
  {
   "cell_type": "markdown",
   "metadata": {},
   "source": [
    "### Write CSV"
   ]
  },
  {
   "cell_type": "code",
   "execution_count": 9,
   "metadata": {},
   "outputs": [],
   "source": [
    "transaction.to_csv('transformed_data/transaction.csv', index = 0)\n",
    "agent.to_csv('transformed_data/agent.csv', index = 0)"
   ]
  },
  {
   "cell_type": "code",
   "execution_count": null,
   "metadata": {},
   "outputs": [],
   "source": []
  }
 ],
 "metadata": {
  "kernelspec": {
   "display_name": "Python 3",
   "language": "python",
   "name": "python3"
  },
  "language_info": {
   "codemirror_mode": {
    "name": "ipython",
    "version": 3
   },
   "file_extension": ".py",
   "mimetype": "text/x-python",
   "name": "python",
   "nbconvert_exporter": "python",
   "pygments_lexer": "ipython3",
   "version": "3.7.6"
  }
 },
 "nbformat": 4,
 "nbformat_minor": 4
}
